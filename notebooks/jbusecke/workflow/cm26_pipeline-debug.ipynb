{
 "cells": [
  {
   "cell_type": "markdown",
   "id": "c06fa8e9-2a61-421e-807b-27c43c9f2d28",
   "metadata": {},
   "source": [
    "# Debug issues with exceeding wind stress\n",
    "\n",
    "## Tasks\n",
    "- Find timestep(s) that exhibit the behavior\n",
    "- Confirm that this behavior only affects certain algorithms\n",
    "- Check if masking the windspeed helps as an intermediate step"
   ]
  },
  {
   "cell_type": "code",
   "execution_count": 1,
   "id": "40ea36f1-8b86-4523-8e72-8c72102934e2",
   "metadata": {},
   "outputs": [],
   "source": [
    "# !mamba install aerobulk-python -y"
   ]
  },
  {
   "cell_type": "code",
   "execution_count": 2,
   "id": "a226e231-5fe2-4e39-8bbe-c442633640b3",
   "metadata": {},
   "outputs": [
    {
     "data": {
      "text/plain": [
       "<dask.config.set at 0x7f9259370850>"
      ]
     },
     "execution_count": 2,
     "metadata": {},
     "output_type": "execute_result"
    }
   ],
   "source": [
    "from multiprocessing.pool import ThreadPool\n",
    "import dask\n",
    "dask.config.set(pool=ThreadPool(4))# Seems to be a safe bet for all algos on the huge machine"
   ]
  },
  {
   "cell_type": "code",
   "execution_count": 3,
   "id": "88bf6404-ba82-4903-a2e3-03154afb15c1",
   "metadata": {},
   "outputs": [],
   "source": [
    "import json\n",
    "import xarray as xr\n",
    "import matplotlib.pyplot as plt\n",
    "from dask.diagnostics import ProgressBar\n",
    "from cm26_utils import write_split_zarr, noskin_ds_wrapper, load_and_merge_cm26\n",
    "\n",
    "# 👇 replace with your key \n",
    "with open('/home/jovyan/keys/pangeo-forge-ocean-transport-4967-347e2048c5a1.json') as token_file:\n",
    "    token = json.load(token_file)"
   ]
  },
  {
   "cell_type": "code",
   "execution_count": 4,
   "id": "f9031771-9455-4533-a5e0-492e170ae22f",
   "metadata": {},
   "outputs": [],
   "source": [
    "ds_merged = load_and_merge_cm26(token)"
   ]
  },
  {
   "cell_type": "markdown",
   "id": "e50f006b-6964-4f1a-8925-b34c39f058a5",
   "metadata": {},
   "source": [
    "## Thoughts\n",
    "- I think the input_range_check is useless here since values well under the range of |50 m/s| seem to upset the other algos"
   ]
  },
  {
   "cell_type": "markdown",
   "id": "daa3111d-c834-4684-b014-8253cfae0460",
   "metadata": {},
   "source": [
    "## Testing"
   ]
  },
  {
   "cell_type": "code",
   "execution_count": 5,
   "id": "faafaed9-8d51-4bd2-a488-2d543cd83dcf",
   "metadata": {},
   "outputs": [],
   "source": [
    "ds_merged = ds_merged.isel(time=slice(90, 130))"
   ]
  },
  {
   "cell_type": "markdown",
   "id": "2901c765-c99a-471a-ba6e-ad5d444a8453",
   "metadata": {},
   "source": [
    "This datasets is enough to produce failures in all algos except ncar + ecmwf"
   ]
  },
  {
   "cell_type": "code",
   "execution_count": 6,
   "id": "7cdbafb9-5c03-463c-8a0e-b18993561ffb",
   "metadata": {},
   "outputs": [
    {
     "name": "stdout",
     "output_type": "stream",
     "text": [
      "[########################################] | 100% Completed |  3min 51.6s\n"
     ]
    }
   ],
   "source": [
    "# can we reproduce the failure with this simple example?\n",
    "# YES if converted to a python script first (kind of annoying)\n",
    "# I did `jupyter nbconvert --to python cm26_pipeline-debug.ipynb`\n",
    "# and then I get the error about the wind stress.\n",
    "\n",
    "# I have executed this with all algos and I get crashes for: \n",
    "# 'coare3p6'\n",
    "# 'andreas'\n",
    "# 'coare3p0'\n",
    "\n",
    "# algo='andreas'\n",
    "# algo='ecmwf'\n",
    "algo='ncar'\n",
    "# algo = 'coare3p0'\n",
    "# algo = 'coare3p6'\n",
    "\n",
    "ds_out = noskin_ds_wrapper(ds_merged, algo=algo, input_range_check=False)\n",
    "ds_out\n",
    "\n",
    "# These work without issues\n",
    "# 'ncar'\n",
    "# 'ecmwf'\n",
    "\n",
    "\n",
    "with ProgressBar():\n",
    "    ds_out.load()"
   ]
  },
  {
   "cell_type": "markdown",
   "id": "009ee899-490b-44d2-8901-1ecfce5f766d",
   "metadata": {},
   "source": [
    "## Investigate the max windstress values we are getting with the working algos\n",
    "\n",
    "Is there a correlation betweewn max wind speeds and stresses? Yeah definitely!"
   ]
  },
  {
   "cell_type": "code",
   "execution_count": null,
   "id": "cb285b01-0405-4078-a168-4c544b8b717f",
   "metadata": {},
   "outputs": [
    {
     "name": "stdout",
     "output_type": "stream",
     "text": [
      "[########################################] | 100% Completed |  3min 59.6s\n"
     ]
    }
   ],
   "source": [
    "working_algos = ['ncar','ecmwf'] #,'andreas', 'andreas' can we reproduce the failure with this simple example?\n",
    "datasets = []\n",
    "for algo in working_algos:\n",
    "    ds_out = noskin_ds_wrapper(ds_merged, algo=algo, input_range_check=False)\n",
    "    with ProgressBar():\n",
    "        ds_out.load()\n",
    "    # calculate the stress magnitude\n",
    "    stress = (ds_out.taux **2 + ds_out.tauy**2)**0.5\n",
    "    stress_max = stress.max(['xt_ocean', 'yt_ocean']).assign_coords(algo=algo)\n",
    "    print(stress_max)\n",
    "    datasets.append(stress_max)"
   ]
  },
  {
   "cell_type": "code",
   "execution_count": null,
   "id": "067c422b-4022-4c60-bc1d-16c90fa85b2b",
   "metadata": {},
   "outputs": [],
   "source": [
    "(ds_merged.wind.max(['xt_ocean', 'yt_ocean'])/10).plot(label='max wind speed scaled')\n",
    "plt.legend()\n",
    "max_stresses = xr.concat(datasets, dim='algo')\n",
    "max_stresses.plot(hue='algo')\n",
    "plt.grid()"
   ]
  },
  {
   "cell_type": "markdown",
   "id": "2012a55a-b171-421f-b3f8-6832a0a96c0a",
   "metadata": {},
   "source": [
    "## Ok can we actually get around this and get some results at all?\n",
    "If not we need to raise the tau cut of in aerobulk.\n",
    "\n",
    "My simple approach right here is to set every wind value larger than `threshold` to zero. This is not a feasible solution for our processing, but I just want to see how low we have to go to get all algos to go through! "
   ]
  },
  {
   "cell_type": "code",
   "execution_count": null,
   "id": "feaafc2e-ea17-43e9-98fa-bb150ed8b73b",
   "metadata": {},
   "outputs": [],
   "source": [
    "failing_algos = ['andreas', 'coare3p0','coare3p6']\n",
    "\n",
    "threshold = 3\n",
    "datasets = []\n",
    "for algo in failing_algos:\n",
    "    ds_masked = ds_merged.copy(deep=False)\n",
    "    mask = ds_masked.wind>threshold\n",
    "    ds_masked['u_ref'] = ds_masked['u_ref'].where(mask, 0)\n",
    "    ds_masked['v_ref'] = ds_masked['v_ref'].where(mask, 0)\n",
    "    \n",
    "    break\n",
    "    ds_out = noskin_ds_wrapper(ds_merged, algo=algo, input_range_check=False)\n",
    "    with ProgressBar():\n",
    "        ds_out.load()\n",
    "    # calculate the stress magnitude\n",
    "    stress = (ds_out.taux **2 + ds_out.tauy**2)**0.5\n",
    "    stress_max = stress.max(['xt_ocean', 'yt_ocean']).assign_coords(algo=algo)\n",
    "    print(stress_max)\n",
    "    datasets.append(stress_max)"
   ]
  }
 ],
 "metadata": {
  "kernelspec": {
   "display_name": "Python 3 (ipykernel)",
   "language": "python",
   "name": "python3"
  },
  "language_info": {
   "codemirror_mode": {
    "name": "ipython",
    "version": 3
   },
   "file_extension": ".py",
   "mimetype": "text/x-python",
   "name": "python",
   "nbconvert_exporter": "python",
   "pygments_lexer": "ipython3",
   "version": "3.9.13"
  }
 },
 "nbformat": 4,
 "nbformat_minor": 5
}
