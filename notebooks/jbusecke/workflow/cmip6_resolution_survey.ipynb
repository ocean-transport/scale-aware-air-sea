{
 "cells": [
  {
   "cell_type": "markdown",
   "id": "1f437e26-7d52-4249-b81a-1f5950eb7762",
   "metadata": {},
   "source": [
    "# What are typical atmospheric resolutions of CMIP6 class models"
   ]
  },
  {
   "cell_type": "code",
   "execution_count": 42,
   "id": "da0d57bd-92e0-4e84-a06c-1009755358a7",
   "metadata": {},
   "outputs": [],
   "source": [
    "from xmip.utils import google_cmip_col\n",
    "import numpy as np\n",
    "import matplotlib.pyplot as plt"
   ]
  },
  {
   "cell_type": "code",
   "execution_count": 2,
   "id": "48d12a1c-9654-47c0-bd24-949fb4a44c4a",
   "metadata": {},
   "outputs": [
    {
     "name": "stderr",
     "output_type": "stream",
     "text": [
      "<frozen importlib._bootstrap>:228: RuntimeWarning: numpy.ndarray size changed, may indicate binary incompatibility. Expected 16 from C header, got 96 from PyObject\n"
     ]
    }
   ],
   "source": [
    "col = google_cmip_col()"
   ]
  },
  {
   "cell_type": "code",
   "execution_count": 52,
   "id": "98c9d980-f141-47a5-a2fa-09c1a3c372d6",
   "metadata": {},
   "outputs": [
    {
     "data": {
      "text/html": [
       "<p><strong>pangeo-cmip6 catalog with 83 dataset(s) from 587 asset(s)</strong>:</p> <div>\n",
       "<style scoped>\n",
       "    .dataframe tbody tr th:only-of-type {\n",
       "        vertical-align: middle;\n",
       "    }\n",
       "\n",
       "    .dataframe tbody tr th {\n",
       "        vertical-align: top;\n",
       "    }\n",
       "\n",
       "    .dataframe thead th {\n",
       "        text-align: right;\n",
       "    }\n",
       "</style>\n",
       "<table border=\"1\" class=\"dataframe\">\n",
       "  <thead>\n",
       "    <tr style=\"text-align: right;\">\n",
       "      <th></th>\n",
       "      <th>unique</th>\n",
       "    </tr>\n",
       "  </thead>\n",
       "  <tbody>\n",
       "    <tr>\n",
       "      <th>activity_id</th>\n",
       "      <td>1</td>\n",
       "    </tr>\n",
       "    <tr>\n",
       "      <th>institution_id</th>\n",
       "      <td>23</td>\n",
       "    </tr>\n",
       "    <tr>\n",
       "      <th>source_id</th>\n",
       "      <td>42</td>\n",
       "    </tr>\n",
       "    <tr>\n",
       "      <th>experiment_id</th>\n",
       "      <td>1</td>\n",
       "    </tr>\n",
       "    <tr>\n",
       "      <th>member_id</th>\n",
       "      <td>151</td>\n",
       "    </tr>\n",
       "    <tr>\n",
       "      <th>table_id</th>\n",
       "      <td>8</td>\n",
       "    </tr>\n",
       "    <tr>\n",
       "      <th>variable_id</th>\n",
       "      <td>1</td>\n",
       "    </tr>\n",
       "    <tr>\n",
       "      <th>grid_label</th>\n",
       "      <td>1</td>\n",
       "    </tr>\n",
       "    <tr>\n",
       "      <th>zstore</th>\n",
       "      <td>587</td>\n",
       "    </tr>\n",
       "    <tr>\n",
       "      <th>dcpp_init_year</th>\n",
       "      <td>0</td>\n",
       "    </tr>\n",
       "    <tr>\n",
       "      <th>version</th>\n",
       "      <td>104</td>\n",
       "    </tr>\n",
       "    <tr>\n",
       "      <th>derived_variable_id</th>\n",
       "      <td>0</td>\n",
       "    </tr>\n",
       "  </tbody>\n",
       "</table>\n",
       "</div>"
      ],
      "text/plain": [
       "<IPython.core.display.HTML object>"
      ]
     },
     "metadata": {},
     "output_type": "display_data"
    }
   ],
   "source": [
    "cat = col.search(grid_label='gn', variable_id='ta', experiment_id='historical')\n",
    "cat#.df['variable_id'].unique()"
   ]
  },
  {
   "cell_type": "code",
   "execution_count": 53,
   "id": "7152e35e-6d52-417b-9856-43a0621188ed",
   "metadata": {},
   "outputs": [
    {
     "name": "stdout",
     "output_type": "stream",
     "text": [
      "\n",
      "--> The keys in the returned dictionary of datasets are constructed as follows:\n",
      "\t'activity_id.institution_id.source_id.experiment_id.member_id.table_id.variable_id.grid_label.zstore.dcpp_init_year.version'\n"
     ]
    },
    {
     "data": {
      "text/html": [
       "\n",
       "<style>\n",
       "    /* Turns off some styling */\n",
       "    progress {\n",
       "        /* gets rid of default border in Firefox and Opera. */\n",
       "        border: none;\n",
       "        /* Needs to be in here for Safari polyfill so background images work as expected. */\n",
       "        background-size: auto;\n",
       "    }\n",
       "    progress:not([value]), progress:not([value])::-webkit-progress-bar {\n",
       "        background: repeating-linear-gradient(45deg, #7e7e7e, #7e7e7e 10px, #5c5c5c 10px, #5c5c5c 20px);\n",
       "    }\n",
       "    .progress-bar-interrupted, .progress-bar-interrupted::-webkit-progress-bar {\n",
       "        background: #F44336;\n",
       "    }\n",
       "</style>\n"
      ],
      "text/plain": [
       "<IPython.core.display.HTML object>"
      ]
     },
     "metadata": {},
     "output_type": "display_data"
    },
    {
     "data": {
      "text/html": [
       "\n",
       "    <div>\n",
       "      <progress value='587' class='' max='587' style='width:300px; height:20px; vertical-align: middle;'></progress>\n",
       "      100.00% [587/587 00:59&lt;00:00]\n",
       "    </div>\n",
       "    "
      ],
      "text/plain": [
       "<IPython.core.display.HTML object>"
      ]
     },
     "metadata": {},
     "output_type": "display_data"
    }
   ],
   "source": [
    "ddict = cat.to_dataset_dict(xarray_open_kwargs={'consolidated':True}, aggregate=False)"
   ]
  },
  {
   "cell_type": "code",
   "execution_count": 54,
   "id": "04c0ed35-2a17-4736-9089-ecf07609263b",
   "metadata": {},
   "outputs": [],
   "source": [
    "resolutions = [(ds.attrs.get('source_id', 'unknown'), ds.attrs.get('nominal_resolution', 'na')) for source_id,ds in ddict.items()]"
   ]
  },
  {
   "cell_type": "code",
   "execution_count": 55,
   "id": "f6561a5a-0445-4cee-9874-76c0c5b9ad74",
   "metadata": {},
   "outputs": [],
   "source": [
    "# resolutions"
   ]
  },
  {
   "cell_type": "code",
   "execution_count": 56,
   "id": "9f4efb40-b38b-431a-ad68-85801ed7ff4d",
   "metadata": {},
   "outputs": [],
   "source": [
    "def all_items_equal(lst):\n",
    "    return all([i==lst[0] for i in lst])\n",
    "\n",
    "source_ids = cat.df['source_id'].unique()\n",
    "res_dict = {}\n",
    "for source_id in source_ids:\n",
    "    res_dict[source_id] = []\n",
    "    for si, res in resolutions:\n",
    "        if si == source_id:\n",
    "            res_dict[source_id].append(res)\n",
    "            \n",
    "    if all_items_equal(res_dict[source_id]):\n",
    "        res_dict[source_id] = res_dict[source_id][0]\n",
    "    else:\n",
    "        print(f'not all the resolutions are the same for {source_id}')   "
   ]
  },
  {
   "cell_type": "code",
   "execution_count": 57,
   "id": "642fa744-a991-4634-9057-ee94d9632c4e",
   "metadata": {},
   "outputs": [
    {
     "data": {
      "text/plain": [
       "42"
      ]
     },
     "execution_count": 57,
     "metadata": {},
     "output_type": "execute_result"
    }
   ],
   "source": [
    "len(res_dict)"
   ]
  },
  {
   "cell_type": "code",
   "execution_count": 58,
   "id": "94062dad-0da3-4401-a908-757212a282e1",
   "metadata": {},
   "outputs": [],
   "source": [
    "res_data = np.array([int(res.replace(' km','')) for res in res_dict.values()])"
   ]
  },
  {
   "cell_type": "code",
   "execution_count": 59,
   "id": "c459abde-467b-43d3-9389-e5464461c65b",
   "metadata": {},
   "outputs": [
    {
     "data": {
      "text/plain": [
       "Text(0, 0.5, 'count of unique source_ids')"
      ]
     },
     "execution_count": 59,
     "metadata": {},
     "output_type": "execute_result"
    },
    {
     "data": {
      "image/png": "[encoded data removed]",
      "text/plain": [
       "<Figure size 640x480 with 1 Axes>"
      ]
     },
     "metadata": {},
     "output_type": "display_data"
    }
   ],
   "source": [
    "plt.hist(res_data)\n",
    "plt.xlabel('nominal horizontal resolution in the atmosphere of CMIP6 models')\n",
    "plt.ylabel('count of unique source_ids')"
   ]
  },
  {
   "cell_type": "code",
   "execution_count": null,
   "id": "5fad3d6e-134f-45da-8cfd-c8d72ee97161",
   "metadata": {},
   "outputs": [],
   "source": []
  }
 ],
 "metadata": {
  "kernelspec": {
   "display_name": "Python 3 (ipykernel)",
   "language": "python",
   "name": "python3"
  },
  "language_info": {
   "codemirror_mode": {
    "name": "ipython",
    "version": 3
   },
   "file_extension": ".py",
   "mimetype": "text/x-python",
   "name": "python",
   "nbconvert_exporter": "python",
   "pygments_lexer": "ipython3",
   "version": "3.9.13"
  }
 },
 "nbformat": 4,
 "nbformat_minor": 5
}
