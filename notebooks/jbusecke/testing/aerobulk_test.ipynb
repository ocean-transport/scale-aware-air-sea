{
 "cells": [
  {
   "cell_type": "code",
   "execution_count": 1,
   "id": "1b65f28e-1804-4d65-a8f6-bc9b514a7bd8",
   "metadata": {},
   "outputs": [
    {
     "name": "stderr",
     "output_type": "stream",
     "text": [
      "/srv/conda/envs/notebook/lib/python3.9/site-packages/dask_gateway/client.py:21: FutureWarning: format_bytes is deprecated and will be removed in a future release. Please use dask.utils.format_bytes instead.\n",
      "  from distributed.utils import LoopRunner, format_bytes\n"
     ]
    },
    {
     "data": {
      "text/html": [
       "<div>\n",
       "    <div style=\"width: 24px; height: 24px; background-color: #e1e1e1; border: 3px solid #9D9D9D; border-radius: 5px; position: absolute;\"> </div>\n",
       "    <div style=\"margin-left: 48px;\">\n",
       "        <h3 style=\"margin-bottom: 0px;\">Client</h3>\n",
       "        <p style=\"color: #9D9D9D; margin-bottom: 0px;\">Client-d70e391f-c241-11ec-8474-92b4853f373a</p>\n",
       "        <table style=\"width: 100%; text-align: left;\">\n",
       "\n",
       "        <tr>\n",
       "        \n",
       "            <td style=\"text-align: left;\"><strong>Connection method:</strong> Cluster object</td>\n",
       "            <td style=\"text-align: left;\"><strong>Cluster type:</strong> dask_gateway.GatewayCluster</td>\n",
       "        \n",
       "        </tr>\n",
       "\n",
       "        \n",
       "            <tr>\n",
       "                <td style=\"text-align: left;\">\n",
       "                    <strong>Dashboard: </strong> <a href=\"/services/dask-gateway/clusters/prod.d0a0b574c94246cf81e935990a11db74/status\" target=\"_blank\">/services/dask-gateway/clusters/prod.d0a0b574c94246cf81e935990a11db74/status</a>\n",
       "                </td>\n",
       "                <td style=\"text-align: left;\"></td>\n",
       "            </tr>\n",
       "        \n",
       "\n",
       "        </table>\n",
       "\n",
       "        \n",
       "            <details>\n",
       "            <summary style=\"margin-bottom: 20px;\"><h3 style=\"display: inline;\">Cluster Info</h3></summary>\n",
       "            <div style='background-color: #f2f2f2; display: inline-block; padding: 10px; border: 1px solid #999999;'>\n",
       "  <h3>GatewayCluster</h3>\n",
       "  <ul>\n",
       "    <li><b>Name: </b>prod.d0a0b574c94246cf81e935990a11db74\n",
       "    <li><b>Dashboard: </b><a href='/services/dask-gateway/clusters/prod.d0a0b574c94246cf81e935990a11db74/status' target='_blank'>/services/dask-gateway/clusters/prod.d0a0b574c94246cf81e935990a11db74/status</a>\n",
       "  </ul>\n",
       "</div>\n",
       "\n",
       "            </details>\n",
       "        \n",
       "\n",
       "    </div>\n",
       "</div>"
      ],
      "text/plain": [
       "<Client: 'tls://10.8.2.3:8786' processes=0 threads=0, memory=0 B>"
      ]
     },
     "execution_count": 1,
     "metadata": {},
     "output_type": "execute_result"
    }
   ],
   "source": [
    "from dask_gateway import Gateway\n",
    "gateway = Gateway()\n",
    "\n",
    "# make sure all the clusters are closed (This is expensive!)\n",
    "clusters = gateway.list_clusters()\n",
    "for cluster in clusters:\n",
    "    gateway.stop_cluster(cluster.name)\n",
    "\n",
    "options = gateway.cluster_options()\n",
    "\n",
    "# # set the options programatically, or through their HTML repr\n",
    "options.worker_memory = 16  # 10 GB of memory per worker.\n",
    "\n",
    "# # Create a cluster with those options\n",
    "cluster = gateway.new_cluster(options, shutdown_on_close=True)\n",
    "cluster.adapt(minimum=6, maximum=40)\n",
    "# cluster.scale(6)\n",
    "client = cluster.get_client()\n",
    "client"
   ]
  },
  {
   "cell_type": "code",
   "execution_count": 3,
   "id": "975fd4a4-7f63-4377-940c-6a7a1972604b",
   "metadata": {},
   "outputs": [],
   "source": [
    "cluster.adapt(minimum=6, maximum=40)"
   ]
  },
  {
   "cell_type": "code",
   "execution_count": 4,
   "id": "433cb7f1-f85d-44a9-9142-8aa6685d1175",
   "metadata": {},
   "outputs": [],
   "source": [
    "# load the ocean data\n",
    "import fsspec\n",
    "import xarray as xr\n",
    "import xesmf as xe\n",
    "import os\n",
    "from intake import open_catalog\n",
    "kwargs = dict(consolidated=True, use_cftime=True)\n",
    "cat = open_catalog(\"https://raw.githubusercontent.com/pangeo-data/pangeo-datastore/master/intake-catalogs/ocean/GFDL_CM2.6.yaml\")\n",
    "ds_ocean  = cat[\"GFDL_CM2_6_control_ocean_surface\"].to_dask()\n",
    "ds_flux  = cat[\"GFDL_CM2_6_control_ocean_boundary_flux\"].to_dask()\n",
    "ds_atmos = xr.open_zarr('gs://cmip6/GFDL_CM2_6/control/atmos_daily.zarr', **kwargs)\n",
    "ds_oc_grid  = cat[\"GFDL_CM2_6_grid\"].to_dask()\n",
    "# cut to same time\n",
    "all_dims = set(list(ds_ocean.dims)+list(ds_atmos.dims))\n",
    "ds_ocean, ds_atmos = xr.align(\n",
    "    ds_ocean,\n",
    "    ds_atmos,\n",
    "    join='inner',\n",
    "    exclude=(di for di in all_dims if di !='time')\n",
    ")"
   ]
  },
  {
   "cell_type": "code",
   "execution_count": null,
   "id": "85f5d587-5b39-41c3-a279-781aa3cc2f13",
   "metadata": {},
   "outputs": [],
   "source": [
    "# merge daily variables\n",
    "ds = xr.merge([ds_ocean[]])"
   ]
  },
  {
   "cell_type": "code",
   "execution_count": null,
   "id": "aef779a2-2cf8-4c6a-b396-bcea7faf6d8c",
   "metadata": {},
   "outputs": [],
   "source": [
    "calgo = \"andreas\"\n",
    "zt = 10.0\n",
    "zu = 10.0\n",
    "\n",
    "sst = np.full(shape, 290.0, order=order)\n",
    "t_zt = np.full(shape, 290.0, order=order)\n",
    "hum_zt = np.full(shape, 0.001, order=order)\n",
    "u_zu = np.full(shape, 1.0, order=order)\n",
    "v_zu = np.full(shape, -1.0, order=order)\n",
    "slp = np.full(shape, 101000.0, order=order)\n",
    "niter = 15  # make optional\n",
    "tic = time()\n",
    "ql, qh, tau_x, tau_y, evap = aero.mod_aerobulk_wrapper.aerobulk_model_noskin(\n",
    "    calgo, zt, zu, sst, t_zt, hum_zt, u_zu, v_zu, slp, niter\n",
    ")"
   ]
  },
  {
   "cell_type": "code",
   "execution_count": 1,
   "id": "5c79c726-b10c-48a3-b420-91dc7081316d",
   "metadata": {},
   "outputs": [],
   "source": [
    "import aerobulk.mod_aerobulk_wrap as aero"
   ]
  },
  {
   "cell_type": "code",
   "execution_count": null,
   "id": "d5b438b3-8f32-4b44-a37e-05fb91c67e4a",
   "metadata": {},
   "outputs": [],
   "source": []
  }
 ],
 "metadata": {
  "kernelspec": {
   "display_name": "Python 3 (ipykernel)",
   "language": "python",
   "name": "python3"
  },
  "language_info": {
   "codemirror_mode": {
    "name": "ipython",
    "version": 3
   },
   "file_extension": ".py",
   "mimetype": "text/x-python",
   "name": "python",
   "nbconvert_exporter": "python",
   "pygments_lexer": "ipython3",
   "version": "3.9.13"
  }
 },
 "nbformat": 4,
 "nbformat_minor": 5
}
